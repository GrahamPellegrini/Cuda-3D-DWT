{
 "cells": [
  {
   "cell_type": "markdown",
   "metadata": {},
   "source": [
    "# Cpp Implementaion handler\n",
    "\n",
    "This notebook is used to load the directory and the .dcm inmages into an array with depth of slices to get a 3D volume array.\n",
    "\n",
    "The we load the processed csv from the cpp implementation.\n",
    "\n",
    "And we plot the output comparing to the pywaveltes result.\n",
    "\n",
    "## Imports"
   ]
  },
  {
   "cell_type": "code",
   "execution_count": 1,
   "metadata": {},
   "outputs": [],
   "source": [
    "# Usual imports\n",
    "import matplotlib.pyplot as plt\n",
    "import numpy as np\n",
    "import os\n",
    "\n",
    "# Importing the OpenCV library for image processing\n",
    "import csv\n",
    "\n",
    "# Importing the pydicom library for reading dicom files\n",
    "import pydicom"
   ]
  },
  {
   "cell_type": "markdown",
   "metadata": {},
   "source": [
    "## Saving directory to CSV"
   ]
  },
  {
   "cell_type": "code",
   "execution_count": 2,
   "metadata": {},
   "outputs": [],
   "source": [
    "def get_dcm_files(directory):\n",
    "    # Get all files in the directory\n",
    "    files = os.listdir(directory)\n",
    "    # Filter out only .dcm files\n",
    "    dcm_files = [file for file in files if file.endswith('.dcm')]\n",
    "    # Sort the files to ensure they are in order\n",
    "    dcm_files.sort()\n",
    "    # Get their full paths\n",
    "    dcm_files = [os.path.join(directory, file) for file in dcm_files]\n",
    "    return dcm_files"
   ]
  },
  {
   "cell_type": "code",
   "execution_count": 3,
   "metadata": {},
   "outputs": [],
   "source": [
    "def load_dicom_files(dicom_files):\n",
    "    slices = [pydicom.dcmread(file).pixel_array for file in dicom_files]\n",
    "    return np.stack(slices, axis=-1)"
   ]
  },
  {
   "cell_type": "code",
   "execution_count": 4,
   "metadata": {},
   "outputs": [],
   "source": [
    "\n",
    "def save_volume_to_csv(volume, csv_file):\n",
    "    with open(csv_file, 'w', newline='') as file:\n",
    "        writer = csv.writer(file)\n",
    "        # Write the shape of the volume as the first row in the order depth, rows, cols\n",
    "        writer.writerow([volume.shape[2], volume.shape[0], volume.shape[1]])\n",
    "        # Flatten the volume and write it to the CSV file in depth, rows, cols order\n",
    "        for d in range(volume.shape[2]):\n",
    "            for r in range(volume.shape[0]):\n",
    "                writer.writerow(volume[r, :, d])"
   ]
  },
  {
   "cell_type": "code",
   "execution_count": 5,
   "metadata": {},
   "outputs": [],
   "source": [
    "# Path to the directory containing the DICOM files\n",
    "dicom_dir = '/home/grahampelle/cce3015/assignment-1/CHAOS-Test-Sets/CT/3/DICOM_anon/'\n",
    "\n",
    "# List of DICOM files to read\n",
    "dicom_files = get_dcm_files(dicom_dir)\n",
    "\n",
    "# Load the DICOM files into a 3D volume\n",
    "volume = load_dicom_files(dicom_files)\n",
    "\n",
    "# Save the volume to a CSV file\n",
    "csv_file = 'volume.csv'\n",
    "save_volume_to_csv(volume, csv_file)"
   ]
  },
  {
   "cell_type": "markdown",
   "metadata": {},
   "source": [
    "## Loading Cpp processed CSV"
   ]
  },
  {
   "cell_type": "code",
   "execution_count": 19,
   "metadata": {},
   "outputs": [
    {
     "data": {
      "image/png": "[encoded data removed]",
      "text/plain": [
       "<Figure size 640x480 with 1 Axes>"
      ]
     },
     "metadata": {},
     "output_type": "display_data"
    }
   ],
   "source": [
    "import csv\n",
    "import numpy as np\n",
    "\n",
    "# CSV file to load\n",
    "csv_file = 'output.csv'\n",
    "\n",
    "# Load the values from line 3 till 578 into a numpy array\n",
    "with open(csv_file, 'r') as file:\n",
    "    reader = csv.reader(file)\n",
    "    \n",
    "    # Skip the first two lines\n",
    "    for _ in range(2):\n",
    "        next(reader)\n",
    "    \n",
    "    # Read the rest of the lines till line 578\n",
    "    data = []\n",
    "    for _ in range(576):  # 578 - 2 skipped lines\n",
    "        line = next(reader)[0].split(' ')\n",
    "        # Filter out any empty strings\n",
    "        filtered_line = [value for value in line if value]\n",
    "        data.append(filtered_line)\n",
    "    \n",
    "data = np.array(data, dtype=np.float32)\n",
    "\n",
    "# Plot the data\n",
    "plt.imshow(data, cmap='gray')\n",
    "plt.show()\n"
   ]
  }
 ],
 "metadata": {
  "kernelspec": {
   "display_name": "cce3015-venv",
   "language": "python",
   "name": "python3"
  },
  "language_info": {
   "codemirror_mode": {
    "name": "ipython",
    "version": 3
   },
   "file_extension": ".py",
   "mimetype": "text/x-python",
   "name": "python",
   "nbconvert_exporter": "python",
   "pygments_lexer": "ipython3",
   "version": "3.10.12"
  }
 },
 "nbformat": 4,
 "nbformat_minor": 2
}
